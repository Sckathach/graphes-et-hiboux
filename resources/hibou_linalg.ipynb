{
  "cells": [
    {
      "cell_type": "code",
      "execution_count": 1,
      "id": "initial_id",
      "metadata": {
        "collapsed": true,
        "ExecuteTime": {
          "end_time": "2024-03-22T23:26:30.807100Z",
          "start_time": "2024-03-22T23:26:29.413500Z"
        }
      },
      "outputs": [
        {
          "name": "stdout",
          "output_type": "stream",
          "text": [
            "- : unit = ()\n",
            "Findlib has been successfully loaded. Additional directives:\n",
            "  #require \"package\";;      to load a package\n",
            "  #list;;                   to list the available packages\n",
            "  #camlp4o;;                to load camlp4 (standard syntax)\n",
            "  #camlp4r;;                to load camlp4 (revised syntax)\n",
            "  #predicates \"p,q,...\";;   to set these predicates\n",
            "  Topfind.reset();;         to force that packages will be reloaded\n",
            "  #thread;;                 to enable threads\n",
            "\n",
            "- : unit = ()\n"
          ]
        },
        {
          "name": "stderr",
          "output_type": "stream",
          "text": [
            "/home/sckathach/.opam/default/lib/bigarray-compat: added to search path\n",
            "/home/sckathach/.opam/default/lib/bigarray-compat/bigarray_compat.cma: loaded\n",
            "/home/sckathach/.opam/default/lib/stdlib-shims: added to search path\n",
            "/home/sckathach/.opam/default/lib/stdlib-shims/stdlib_shims.cma: loaded\n",
            "/home/sckathach/.opam/default/lib/integers: added to search path\n",
            "/home/sckathach/.opam/default/lib/integers/integers.cma: loaded\n",
            "/home/sckathach/.opam/default/lib/ctypes: added to search path\n",
            "/home/sckathach/.opam/default/lib/ctypes/ctypes.cma: loaded\n",
            "/home/sckathach/.opam/default/lib/ocaml/str.cma: loaded\n",
            "/home/sckathach/.opam/default/lib/ctypes/stubs: added to search path\n",
            "/home/sckathach/.opam/default/lib/ctypes/stubs/ctypes_stubs.cma: loaded\n",
            "/home/sckathach/.opam/default/lib/eigen/cpp: added to search path\n",
            "/home/sckathach/.opam/default/lib/eigen/cpp/eigen_cpp_stubs.cma: loaded\n",
            "/home/sckathach/.opam/default/lib/eigen: added to search path\n",
            "/home/sckathach/.opam/default/lib/eigen/eigen.cma: loaded\n",
            "/home/sckathach/.opam/default/lib/ocaml/unix.cma: loaded\n",
            "/home/sckathach/.opam/default/lib/ocaml/bigarray.cma: loaded\n",
            "/home/sckathach/.opam/default/lib/zip: added to search path\n",
            "/home/sckathach/.opam/default/lib/zip/zip.cma: loaded\n",
            "/home/sckathach/.opam/default/lib/camlzip: added to search path\n",
            "/home/sckathach/.opam/default/lib/npy: added to search path\n",
            "/home/sckathach/.opam/default/lib/npy/npy.cma: loaded\n",
            "/home/sckathach/.opam/default/lib/owl-base: added to search path\n",
            "/home/sckathach/.opam/default/lib/owl-base/owl_base.cma: loaded\n",
            "/home/sckathach/.opam/default/lib/owl: added to search path\n",
            "/home/sckathach/.opam/default/lib/owl/owl.cma: loaded\n",
            "/home/sckathach/.opam/default/lib/ocaml/compiler-libs: added to search path\n",
            "/home/sckathach/.opam/default/lib/ocaml/compiler-libs/ocamlcommon.cma: loaded\n",
            "/home/sckathach/.opam/default/lib/ocaml/compiler-libs/ocamlbytecomp.cma: loaded\n",
            "/home/sckathach/.opam/default/lib/ocaml/compiler-libs/ocamltoplevel.cma: loaded\n",
            "/home/sckathach/.opam/default/lib/ocaml-compiler-libs/toplevel: added to search path\n",
            "/home/sckathach/.opam/default/lib/ocaml-compiler-libs/toplevel/ocaml_toplevel.cma: loaded\n",
            "/home/sckathach/.opam/default/lib/owl-zoo: added to search path\n",
            "/home/sckathach/.opam/default/lib/owl-zoo/owl_zoo.cma: loaded\n",
            "/home/sckathach/.opam/default/lib/owl-top: added to search path\n",
            "/home/sckathach/.opam/default/lib/owl-top/owl_top.cma: loaded\n",
            "/home/sckathach/.opam/default/lib/plplot: added to search path\n",
            "/home/sckathach/.opam/default/lib/plplot/plplot.cma: loaded\n",
            "/home/sckathach/.opam/default/lib/owl-plplot: added to search path\n",
            "/home/sckathach/.opam/default/lib/owl-plplot/owl_plplot.cma: loaded\n",
            "/home/sckathach/.opam/default/lib/seq: added to search path\n",
            "/home/sckathach/.opam/default/lib/yojson: added to search path\n",
            "/home/sckathach/.opam/default/lib/yojson/yojson.cma: loaded\n",
            "/home/sckathach/.opam/default/lib/ppx_yojson_conv_lib: added to search path\n",
            "/home/sckathach/.opam/default/lib/ppx_yojson_conv_lib/ppx_yojson_conv_lib.cma: loaded\n",
            "/home/sckathach/.opam/default/lib/bytes: added to search path\n",
            "/home/sckathach/.opam/default/lib/uuidm: added to search path\n",
            "/home/sckathach/.opam/default/lib/uuidm/uuidm.cma: loaded\n",
            "/home/sckathach/.opam/default/lib/jupyter: added to search path\n",
            "/home/sckathach/.opam/default/lib/jupyter/jupyter.cma: loaded\n",
            "/home/sckathach/.opam/default/lib/base64: added to search path\n",
            "/home/sckathach/.opam/default/lib/base64/base64.cma: loaded\n",
            "/home/sckathach/.opam/default/lib/result: added to search path\n",
            "/home/sckathach/.opam/default/lib/result/result.cma: loaded\n",
            "/home/sckathach/.opam/default/lib/ppx_deriving/runtime: added to search path\n",
            "/home/sckathach/.opam/default/lib/ppx_deriving/runtime/ppx_deriving_runtime.cma: loaded\n",
            "/home/sckathach/.opam/default/lib/jupyter/notebook: added to search path\n",
            "/home/sckathach/.opam/default/lib/jupyter/notebook/jupyter_notebook.cma: loaded\n",
            "/home/sckathach/.opam/default/lib/owl-jupyter: added to search path\n",
            "/home/sckathach/.opam/default/lib/owl-jupyter/owl_jupyter.cma: loaded\n"
          ]
        }
      ],
      "source": [
        "#use \"topfind\"\n",
        "#require \"owl-top, owl-plplot, owl-jupyter, jupyter.notebook\"\n",
        "open Owl_plplot\n",
        "open Owl_jupyter\n",
        "open Owl"
      ]
    },
    {
      "cell_type": "code",
      "outputs": [
        {
          "data": {
            "text/plain": "- : bool = true\n"
          },
          "execution_count": 2,
          "metadata": {},
          "output_type": "execute_result"
        }
      ],
      "source": [
        "Mat.eye 5 |> Linalg.D.is_diag"
      ],
      "metadata": {
        "collapsed": false,
        "ExecuteTime": {
          "end_time": "2024-03-22T23:26:42.470Z",
          "start_time": "2024-03-22T23:26:42.142800Z"
        }
      },
      "id": "d5aae1eecb0228af",
      "execution_count": 2
    },
    {
      "cell_type": "code",
      "outputs": [
        {
          "data": {
            "text/plain": "val x : Owl.Mat.mat =\n  \n        C0       C1      C2       C3       C4 \nR0 1.94836  1.35443 1.91885  1.59472  1.33146 \nR1 1.35443  1.51114 1.49339 0.810121  1.34279 \nR2 1.91885  1.49339 2.53349  1.37017  1.96801 \nR3 1.59472 0.810121 1.37017  1.69653 0.852018 \nR4 1.33146  1.34279 1.96801 0.852018  1.78414 \n\n"
          },
          "execution_count": 3,
          "metadata": {},
          "output_type": "execute_result"
        },
        {
          "data": {
            "text/plain": "val y : Owl.Linalg.D.mat =\n  \n         C0       C1       C2       C3       C4 \nR0    35.66 -19.2168 -25.0669  -15.633  22.9667 \nR1 -19.2168  12.4856  13.9374  8.00234 -14.2512 \nR2 -25.0669  13.9374  22.2719  9.38073 -20.8298 \nR3  -15.633  8.00234  9.38073  8.22071 -8.62957 \nR4  22.9667 -14.2512 -20.8298 -8.62957  21.2445 \n\n"
          },
          "execution_count": 3,
          "metadata": {},
          "output_type": "execute_result"
        }
      ],
      "source": [
        "let x = Mat.semidef 5\n",
        "let y = Linalg.D.inv x"
      ],
      "metadata": {
        "collapsed": false,
        "ExecuteTime": {
          "end_time": "2024-03-22T23:29:24.815900Z",
          "start_time": "2024-03-22T23:29:24.740700Z"
        }
      },
      "id": "f1a416e16859260e",
      "execution_count": 3
    },
    {
      "cell_type": "code",
      "outputs": [
        {
          "data": {
            "text/plain": "- : bool = true\n"
          },
          "execution_count": 4,
          "metadata": {},
          "output_type": "execute_result"
        }
      ],
      "source": [
        "Mat.(x *@ y =~ eye 5)"
      ],
      "metadata": {
        "collapsed": false,
        "ExecuteTime": {
          "end_time": "2024-03-22T23:29:34.774400Z",
          "start_time": "2024-03-22T23:29:34.762600Z"
        }
      },
      "id": "df0ff8c4c0168cc0",
      "execution_count": 4
    },
    {
      "cell_type": "code",
      "outputs": [
        {
          "data": {
            "text/plain": "val flag : bool = true\n"
          },
          "execution_count": 5,
          "metadata": {},
          "output_type": "execute_result"
        }
      ],
      "source": [
        "let flag =\n",
        "    let a = Mat.uniform 4 4 in\n",
        "    let b = Mat.uniform 4 4 in\n",
        "    let m1 = Mat.(dot a b |> transpose) in\n",
        "    let m2 = Mat.(dot (transpose b) (transpose a)) in\n",
        "    Mat.(m1 =~ m2);;"
      ],
      "metadata": {
        "collapsed": false,
        "ExecuteTime": {
          "end_time": "2024-03-22T23:30:53.461600Z",
          "start_time": "2024-03-22T23:30:53.448800Z"
        }
      },
      "id": "fdd6ea3d4fd13ff5",
      "execution_count": 5
    },
    {
      "cell_type": "code",
      "outputs": [
        {
          "data": {
            "text/plain": "val is_zero : ?eps:float -> float -> bool = <fun>\n"
          },
          "execution_count": 18,
          "metadata": {},
          "output_type": "execute_result"
        }
      ],
      "source": [
        "let is_zero ?(eps=0.005) x = Maths.abs x < eps "
      ],
      "metadata": {
        "collapsed": false,
        "ExecuteTime": {
          "end_time": "2024-03-22T23:46:17.932800Z",
          "start_time": "2024-03-22T23:46:17.927200Z"
        }
      },
      "id": "6d7e34040814ff20",
      "execution_count": 6
    },
    {
      "cell_type": "code",
      "outputs": [
        {
          "data": {
            "text/plain": "val a : Owl.Mat.mat =\n  \n   C0 C1 C2 C3 \nR0  1 15 14  4 \nR1 12  6  7  9 \nR2  8 10 11  5 \nR3 13  3  2 16 \n\n"
          },
          "execution_count": 20,
          "metadata": {},
          "output_type": "execute_result"
        },
        {
          "data": {
            "text/plain": "val x : Owl.Linalg.D.mat =\n  \n          C0 \nR0 -0.223607 \nR1  -0.67082 \nR2   0.67082 \nR3  0.223607 \n\n"
          },
          "execution_count": 20,
          "metadata": {},
          "output_type": "execute_result"
        },
        {
          "data": {
            "text/plain": "val r : bool = true\n"
          },
          "execution_count": 20,
          "metadata": {},
          "output_type": "execute_result"
        }
      ],
      "source": [
        "let a = Mat.magic 4\n",
        "let x = Linalg.D.null a\n",
        "let r = Mat.dot a x |> Mat.l2norm' |> is_zero;;"
      ],
      "metadata": {
        "collapsed": false,
        "ExecuteTime": {
          "end_time": "2024-03-22T23:46:49.395Z",
          "start_time": "2024-03-22T23:46:49.380600Z"
        }
      },
      "id": "ad03dc10236983a9",
      "execution_count": 7
    }
  ],
  "metadata": {
    "kernelspec": {
      "name": "ocaml-jupyter",
      "language": "OCaml",
      "display_name": "OCaml default"
    },
    "language_info": {
      "codemirror_mode": "text/x-ocaml",
      "file_extension": ".ml",
      "mimetype": "text/x-ocaml",
      "name": "OCaml",
      "nbconvert_exporter": null,
      "pygments_lexer": "OCaml",
      "version": "4.04.2"
    }
  },
  "nbformat": 4,
  "nbformat_minor": 5
}